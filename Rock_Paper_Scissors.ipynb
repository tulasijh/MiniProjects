{
  "nbformat": 4,
  "nbformat_minor": 0,
  "metadata": {
    "colab": {
      "provenance": [],
      "authorship_tag": "ABX9TyNFvx/FDgZb/JjWhw+bWAdl",
      "include_colab_link": true
    },
    "kernelspec": {
      "name": "python3",
      "display_name": "Python 3"
    },
    "language_info": {
      "name": "python"
    }
  },
  "cells": [
    {
      "cell_type": "markdown",
      "metadata": {
        "id": "view-in-github",
        "colab_type": "text"
      },
      "source": [
        "<a href=\"https://colab.research.google.com/github/tulasijh/MiniProjects/blob/main/Rock_Paper_Scissors.ipynb\" target=\"_parent\"><img src=\"https://colab.research.google.com/assets/colab-badge.svg\" alt=\"Open In Colab\"/></a>"
      ]
    },
    {
      "cell_type": "code",
      "execution_count": null,
      "metadata": {
        "colab": {
          "base_uri": "https://localhost:8080/"
        },
        "id": "agYyD4O2Y-Xb",
        "outputId": "422b5160-a0a4-4d11-925e-c487377b81f1"
      },
      "outputs": [
        {
          "output_type": "stream",
          "name": "stdout",
          "text": [
            "What do you choose? Type 0 for Rock, 1 for Paper and 2 for Scissors.2\n",
            "\n",
            "    _______\n",
            "---'   ____)____\n",
            "          ______)\n",
            "       __________)\n",
            "      (____)\n",
            "---.__(___)\n",
            "\n",
            "Computer's choice: \n",
            "0\n",
            "\n",
            "    _______\n",
            "---'   ____)\n",
            "      (_____)\n",
            "      (_____)\n",
            "      (____)\n",
            "---.__(___)\n",
            "\n",
            "You lose!\n"
          ]
        }
      ],
      "source": [
        "rock = '''\n",
        "    _______\n",
        "---'   ____)\n",
        "      (_____)\n",
        "      (_____)\n",
        "      (____)\n",
        "---.__(___)\n",
        "'''\n",
        "\n",
        "paper = '''\n",
        "    _______\n",
        "---'   ____)____\n",
        "          ______)\n",
        "          _______)\n",
        "         _______)\n",
        "---.__________)\n",
        "'''\n",
        "\n",
        "scissors = '''\n",
        "    _______\n",
        "---'   ____)____\n",
        "          ______)\n",
        "       __________)\n",
        "      (____)\n",
        "---.__(___)\n",
        "'''\n",
        "\n",
        "#Write your code below this line 👇\n",
        "import random\n",
        "\n",
        "user_choice = int(input(\"What do you choose? Type 0 for Rock, 1 for Paper and 2 for Scissors.\"))\n",
        "\n",
        "if user_choice == 0:\n",
        "  print(rock)\n",
        "elif user_choice == 1:\n",
        "  print(paper)\n",
        "elif user_choice == 2:\n",
        "  print(scissors)\n",
        "\n",
        "\n",
        "\n",
        "print(\"Computer's choice: \")\n",
        "computer_choice = random.randint(0,2)\n",
        "print((computer_choice))\n",
        "\n",
        "\n",
        "if computer_choice == 0:\n",
        "  print(rock)\n",
        "elif computer_choice == 1:\n",
        "  print(paper)\n",
        "elif computer_choice == 2:\n",
        "  print(scissors)\n",
        "\n",
        "\n",
        "\n",
        "# rock beats scissors\n",
        "# scissors beat paper\n",
        "# paper beats rock\n",
        "\n",
        "if user_choice == 0 and computer_choice == 2:\n",
        "  print(\"You win! Computer Loses!\")\n",
        "elif user_choice == 2 and computer_choice == 1:\n",
        "  print(\"You win! Computer Loses!\")\n",
        "elif user_choice == 1 and computer_choice == 0:\n",
        "  print(\"You win! Computer Loses!\")\n",
        "elif user_choice == computer_choice:\n",
        "  print(\"Tied! Try Again!\")\n",
        "else:\n",
        "  print(\"You lose!\")\n",
        "\n",
        "\n"
      ]
    },
    {
      "cell_type": "code",
      "source": [],
      "metadata": {
        "id": "3sBtBCHJf0iZ"
      },
      "execution_count": null,
      "outputs": []
    }
  ]
}